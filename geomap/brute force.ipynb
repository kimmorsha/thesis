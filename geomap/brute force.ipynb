{
 "cells": [
  {
   "cell_type": "code",
   "execution_count": 1,
   "metadata": {},
   "outputs": [],
   "source": [
    "from datetime import datetime\n",
    "import dateutil\n",
    "import time\n",
    "import numpy as np\n",
    "import pandas as pd\n",
    "from pandas.tseries.offsets import *\n",
    "\n",
    "import cufflinks as cf\n",
    "\n",
    "import plotly.plotly as py\n",
    "import plotly.tools as tls\n",
    "import plotly.graph_objs as go\n",
    "from plotly.grid_objs import Grid, Column\n",
    "import collections\n",
    "\n",
    "tls.set_credentials_file(username='kimmorsha' , api_key='gOupG4bDv8MLp1AuHM1S')\n",
    "mapbox_access_token = 'pk.eyJ1Ijoia2ltbW9yc2hhIiwiYSI6ImNqZzZqZ3R2NDIyM2gzM3hmcGN5ZzRkamIifQ.oVqfqIPiaeoa8fNSoHv-vA'\n",
    "\n",
    "filename = \"../dataset/marawi_final.csv\"\n",
    "df = pd.read_csv(filename)\n",
    "\n",
    "# Convert date column to datetime type\n",
    "df[\"date\"] = pd.to_datetime(df['date'], format='%m/%d/%Y')\n",
    "days = df['date'].dt.strftime('%Y-%m-%d').astype(str).unique()"
   ]
  },
  {
   "cell_type": "code",
   "execution_count": null,
   "metadata": {},
   "outputs": [],
   "source": []
  }
 ],
 "metadata": {
  "kernelspec": {
   "display_name": "Python 2",
   "language": "python",
   "name": "python2"
  },
  "language_info": {
   "codemirror_mode": {
    "name": "ipython",
    "version": 2
   },
   "file_extension": ".py",
   "mimetype": "text/x-python",
   "name": "python",
   "nbconvert_exporter": "python",
   "pygments_lexer": "ipython2",
   "version": "2.7.14"
  }
 },
 "nbformat": 4,
 "nbformat_minor": 2
}
