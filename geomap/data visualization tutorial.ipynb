{
 "cells": [
  {
   "cell_type": "code",
   "execution_count": 1,
   "metadata": {
    "scrolled": true
   },
   "outputs": [
    {
     "name": "stdout",
     "output_type": "stream",
     "text": [
      "Collecting cufflinks\n",
      "  Downloading https://files.pythonhosted.org/packages/77/03/41417334cd40090889feb31f0f08f70279b5ceb6a0941ebe84b8fedcd201/cufflinks-0.12.1.tar.gz (49kB)\n",
      "Requirement already satisfied: pandas in c:\\python27\\lib\\site-packages (from cufflinks) (0.22.0)\n",
      "Requirement already satisfied: plotly>=2.0.0 in c:\\python27\\lib\\site-packages (from cufflinks) (2.5.1)\n",
      "Collecting colorlover>=0.2 (from cufflinks)\n",
      "  Downloading https://files.pythonhosted.org/packages/ec/29/2f48e4412213adead8402dd358780a4d975263eda14c0fdd3cae9fae8763/colorlover-0.2.1.tar.gz\n",
      "Requirement already satisfied: numpy>=1.9.0 in c:\\python27\\lib\\site-packages (from pandas->cufflinks) (1.13.3+mkl)\n",
      "Requirement already satisfied: python-dateutil in c:\\python27\\lib\\site-packages (from pandas->cufflinks) (2.7.2)\n",
      "Requirement already satisfied: pytz>=2011k in c:\\python27\\lib\\site-packages (from pandas->cufflinks) (2018.4)\n",
      "Requirement already satisfied: nbformat>=4.2 in c:\\python27\\lib\\site-packages (from plotly>=2.0.0->cufflinks) (4.4.0)\n",
      "Requirement already satisfied: six in c:\\python27\\lib\\site-packages (from plotly>=2.0.0->cufflinks) (1.11.0)\n",
      "Requirement already satisfied: requests in c:\\python27\\lib\\site-packages (from plotly>=2.0.0->cufflinks) (2.18.4)\n",
      "Requirement already satisfied: decorator>=4.0.6 in c:\\python27\\lib\\site-packages (from plotly>=2.0.0->cufflinks) (4.3.0)\n",
      "Requirement already satisfied: ipython-genutils in c:\\python27\\lib\\site-packages (from nbformat>=4.2->plotly>=2.0.0->cufflinks) (0.2.0)\n",
      "Requirement already satisfied: traitlets>=4.1 in c:\\python27\\lib\\site-packages (from nbformat>=4.2->plotly>=2.0.0->cufflinks) (4.3.2)\n",
      "Requirement already satisfied: jupyter-core in c:\\python27\\lib\\site-packages (from nbformat>=4.2->plotly>=2.0.0->cufflinks) (4.4.0)\n",
      "Requirement already satisfied: jsonschema!=2.5.0,>=2.4 in c:\\python27\\lib\\site-packages (from nbformat>=4.2->plotly>=2.0.0->cufflinks) (2.6.0)\n",
      "Requirement already satisfied: chardet<3.1.0,>=3.0.2 in c:\\python27\\lib\\site-packages (from requests->plotly>=2.0.0->cufflinks) (3.0.4)\n",
      "Requirement already satisfied: certifi>=2017.4.17 in c:\\python27\\lib\\site-packages (from requests->plotly>=2.0.0->cufflinks) (2018.4.16)\n",
      "Requirement already satisfied: urllib3<1.23,>=1.21.1 in c:\\python27\\lib\\site-packages (from requests->plotly>=2.0.0->cufflinks) (1.22)\n",
      "Requirement already satisfied: idna<2.7,>=2.5 in c:\\python27\\lib\\site-packages (from requests->plotly>=2.0.0->cufflinks) (2.6)\n",
      "Requirement already satisfied: enum34; python_version == \"2.7\" in c:\\python27\\lib\\site-packages (from traitlets>=4.1->nbformat>=4.2->plotly>=2.0.0->cufflinks) (1.1.6)\n",
      "Requirement already satisfied: functools32; python_version == \"2.7\" in c:\\python27\\lib\\site-packages (from jsonschema!=2.5.0,>=2.4->nbformat>=4.2->plotly>=2.0.0->cufflinks) (3.2.3.post2)\n",
      "Building wheels for collected packages: cufflinks, colorlover\n",
      "  Running setup.py bdist_wheel for cufflinks: started\n",
      "  Running setup.py bdist_wheel for cufflinks: finished with status 'done'\n",
      "  Stored in directory: C:\\Users\\Kim Morsha\\AppData\\Local\\pip\\Cache\\wheels\\fe\\65\\2a\\c27161ec188f5129f8ed0266e69c14964589d48d43766f1af3\n",
      "  Running setup.py bdist_wheel for colorlover: started\n",
      "  Running setup.py bdist_wheel for colorlover: finished with status 'done'\n",
      "  Stored in directory: C:\\Users\\Kim Morsha\\AppData\\Local\\pip\\Cache\\wheels\\fc\\c3\\f7\\fde32e0d906ad64fe8011a823ea39e0197616116150f4a8376\n",
      "Successfully built cufflinks colorlover\n",
      "Installing collected packages: colorlover, cufflinks\n",
      "Successfully installed colorlover-0.2.1 cufflinks-0.12.1\n"
     ]
    }
   ],
   "source": [
    "! pip install cufflinks"
   ]
  },
  {
   "cell_type": "code",
   "execution_count": 3,
   "metadata": {},
   "outputs": [],
   "source": [
    "import numpy as np\n",
    "import pandas as pd\n",
    "\n",
    "import cufflinks as cf\n",
    "\n",
    "import plotly.plotly as py\n",
    "import plotly.tools as tls\n",
    "import plotly.graph_objs as go"
   ]
  },
  {
   "cell_type": "code",
   "execution_count": 4,
   "metadata": {},
   "outputs": [],
   "source": [
    "tls.set_credentials_file(username='kimmorsha' , api_key='gOupG4bDv8MLp1AuHM1S')"
   ]
  },
  {
   "cell_type": "code",
   "execution_count": 6,
   "metadata": {},
   "outputs": [
    {
     "data": {
      "text/html": [
       "<iframe id=\"igraph\" scrolling=\"no\" style=\"border:none;\" seamless=\"seamless\" src=\"https://plot.ly/~kimmorsha/1.embed\" height=\"525px\" width=\"100%\"></iframe>"
      ],
      "text/plain": [
       "<plotly.tools.PlotlyDisplay object>"
      ]
     },
     "execution_count": 6,
     "metadata": {},
     "output_type": "execute_result"
    }
   ],
   "source": [
    "a = np.linspace(start=0, stop=36, num=36)\n",
    "\n",
    "np.random.seed(25)\n",
    "b = np.random.uniform(low=0.0, high=1.0, size=36)\n",
    "\n",
    "trace = go.Scatter(x=a, y=b)\n",
    "\n",
    "data = [trace]\n",
    "\n",
    "py.iplot(data, file='basic-line-chart')"
   ]
  },
  {
   "cell_type": "code",
   "execution_count": 9,
   "metadata": {},
   "outputs": [
    {
     "name": "stdout",
     "output_type": "stream",
     "text": [
      "{'yaxis': {'title': 'y axis'}, 'xaxis': {'title': 'x axis'}, 'title': 'double line chart'}\n"
     ]
    }
   ],
   "source": [
    "x = [1,2,3,4,5,6,7,8,9]\n",
    "y = [1,2,3,4,0,4,3,2,1]\n",
    "z = [10,9,8,7,6,5,4,3,2,1]\n",
    "\n",
    "trace0 = go.Scatter(x=x, y=y, name='list object', line = dict(width=5))\n",
    "trace1 = go.Scatter(x=x, y=z, name='list object21', line = dict(width=10))\n",
    "\n",
    "data = [trace0, trace1]\n",
    "                                                                \n",
    "layout = dict(title='double line chart', xaxis= dict(title='x axis'), yaxis= dict(title='y axis'))\n",
    "print layout"
   ]
  },
  {
   "cell_type": "code",
   "execution_count": 10,
   "metadata": {},
   "outputs": [
    {
     "name": "stdout",
     "output_type": "stream",
     "text": [
      "{'layout': {'yaxis': {'title': 'y axis'}, 'xaxis': {'title': 'x axis'}, 'title': 'double line chart'}, 'data': [{'y': [1, 2, 3, 4, 0, 4, 3, 2, 1], 'x': [1, 2, 3, 4, 5, 6, 7, 8, 9], 'line': {'width': 5}, 'type': 'scatter', 'name': 'list object'}, {'y': [10, 9, 8, 7, 6, 5, 4, 3, 2, 1], 'x': [1, 2, 3, 4, 5, 6, 7, 8, 9], 'line': {'width': 10}, 'type': 'scatter', 'name': 'list object21'}]}\n"
     ]
    }
   ],
   "source": [
    "fig = dict(data=data, layout=layout)\n",
    "print fig"
   ]
  },
  {
   "cell_type": "code",
   "execution_count": 11,
   "metadata": {},
   "outputs": [
    {
     "data": {
      "text/html": [
       "<iframe id=\"igraph\" scrolling=\"no\" style=\"border:none;\" seamless=\"seamless\" src=\"https://plot.ly/~kimmorsha/3.embed\" height=\"525px\" width=\"100%\"></iframe>"
      ],
      "text/plain": [
       "<plotly.tools.PlotlyDisplay object>"
      ]
     },
     "execution_count": 11,
     "metadata": {},
     "output_type": "execute_result"
    }
   ],
   "source": [
    "py.iplot(fig, filename='styled-line-chart')"
   ]
  },
  {
   "cell_type": "code",
   "execution_count": null,
   "metadata": {},
   "outputs": [],
   "source": [
    "import"
   ]
  }
 ],
 "metadata": {
  "kernelspec": {
   "display_name": "Python 2",
   "language": "python",
   "name": "python2"
  },
  "language_info": {
   "codemirror_mode": {
    "name": "ipython",
    "version": 2
   },
   "file_extension": ".py",
   "mimetype": "text/x-python",
   "name": "python",
   "nbconvert_exporter": "python",
   "pygments_lexer": "ipython2",
   "version": "2.7.14"
  }
 },
 "nbformat": 4,
 "nbformat_minor": 2
}
