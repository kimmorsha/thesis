{
 "cells": [
  {
   "cell_type": "code",
   "execution_count": null,
   "metadata": {},
   "outputs": [],
   "source": [
    "import pandas as pd\n",
    "import numpy as np\n",
    "\n",
    "df = pd.read_csv('../../dataset/marawi_tweets_final.csv')\n",
    "# df.drop(\"Unnamed: 0\", 1, inplace=True)\n",
    "df[\"date\"] = pd.to_datetime(df['date'], format='%m/%d/%Y')\n",
    "df.index = df[\"date\"]\n",
    "df.drop(\"date\", 1, inplace=True)\n",
    "df.drop(\"tweet\", 1, inplace=True)\n",
    "df.drop(\"location\", 1, inplace=True)\n",
    "df.drop(\"emotion\", 1, inplace=True)\n",
    "totalList = []\n",
    "for month in df.groupby(df.index.month):\n",
    "    dailyList = []\n",
    "    for day in month[1].groupby(month[1].index.day):\n",
    "        dailyList.append(day[1])\n",
    "    totalList.append(dailyList)\n",
    "return np.array(totalList)"
   ]
  }
 ],
 "metadata": {
  "kernelspec": {
   "display_name": "Python 2",
   "language": "python",
   "name": "python2"
  },
  "language_info": {
   "codemirror_mode": {
    "name": "ipython",
    "version": 2
   },
   "file_extension": ".py",
   "mimetype": "text/x-python",
   "name": "python",
   "nbconvert_exporter": "python",
   "pygments_lexer": "ipython2",
   "version": "2.7.14"
  }
 },
 "nbformat": 4,
 "nbformat_minor": 2
}
