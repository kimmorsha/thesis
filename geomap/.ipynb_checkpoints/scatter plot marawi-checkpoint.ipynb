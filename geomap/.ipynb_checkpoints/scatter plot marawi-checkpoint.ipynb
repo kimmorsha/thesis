{
 "cells": [
  {
   "cell_type": "code",
   "execution_count": 1,
   "metadata": {},
   "outputs": [],
   "source": [
    "from datetime import datetime\n",
    "import dateutil\n",
    "import numpy as np\n",
    "import pandas as pd\n",
    "\n",
    "import cufflinks as cf\n",
    "\n",
    "import plotly.plotly as py\n",
    "import plotly.tools as tls\n",
    "import plotly.graph_objs as go\n",
    "import collections\n",
    "\n",
    "tls.set_credentials_file(username='kimmorsha' , api_key='gOupG4bDv8MLp1AuHM1S')"
   ]
  },
  {
   "cell_type": "code",
   "execution_count": 2,
   "metadata": {},
   "outputs": [],
   "source": [
    "filename = \"../dataset/marawi_tweets_final.csv\"\n",
    "\n",
    "# headers= [\"username\", \"tweet\", \"latitude\", \"longitude\", \"language\", \"anger\", \"joy\", \"sadness\", \"fear\", \"disgust\", \"emotion\", \"percentage\"]\n",
    "# dtypes = [str, str, float, float, str, float, float, float, float, float, str, float] \n",
    "# dateCols = ['date', 'time']\n",
    "\n",
    "df = pd.read_csv(filename)\n",
    "\n",
    "df[\"date\"] = pd.to_datetime(df['date'], format='%m/%d/%Y')\n"
   ]
  },
  {
   "cell_type": "code",
   "execution_count": 3,
   "metadata": {},
   "outputs": [],
   "source": [
    "# Get list of days\n",
    "\n",
    "days = df[\"date\"]\n",
    "days = list(sorted(days.astype(str)))\n",
    "days = sorted(days, key=lambda x: datetime.strptime(x, '%Y-%m-%d'))\n",
    "df['date'] = days\n",
    "\n",
    "days = df[\"date\"].unique()"
   ]
  },
  {
   "cell_type": "code",
   "execution_count": 4,
   "metadata": {},
   "outputs": [],
   "source": [
    "# Get x-axis for scatterplot which is the date \n",
    "\n",
    "x = days\n",
    "\n",
    "# Get lists by emotions\n",
    "anger_list = df[df['emotion'] == 'anger']  \n",
    "joy_list = df[df['emotion'] == 'joy']  \n",
    "sadness_list = df[df['emotion'] == 'sadness']  \n",
    "fear_list = df[df['emotion'] == 'fear']  \n",
    "disgust_list = df[df['emotion'] == 'disgust']  "
   ]
  },
  {
   "cell_type": "code",
   "execution_count": 5,
   "metadata": {},
   "outputs": [],
   "source": [
    "# Group by day and count number of emotion \n",
    "\n",
    "anger_days_list = anger_list['date'].value_counts()\n",
    "sadness_days_list = sadness_list['date'].value_counts()\n",
    "joy_days_list = joy_list['date'].value_counts()\n",
    "fear_days_list = fear_list['date'].value_counts()\n",
    "disgust_days_list = disgust_list['date'].value_counts()\n",
    "\n",
    "# for y values in the scatter plot\n",
    "\n",
    "od = collections.OrderedDict(sorted(anger_days_list.to_dict().items())) \n",
    "anger_days_list = map(int, od.values())\n",
    "\n",
    "od = collections.OrderedDict(sorted(sadness_days_list.to_dict().items())) \n",
    "sadness_days_list = map(int, od.values())\n",
    "\n",
    "od = collections.OrderedDict(sorted(joy_days_list.to_dict().items())) \n",
    "joy_days_list = map(int, od.values())\n",
    "\n",
    "od = collections.OrderedDict(sorted(fear_days_list.to_dict().items())) \n",
    "fear_days_list = map(int, od.values())\n",
    "\n",
    "od = collections.OrderedDict(sorted(disgust_days_list.to_dict().items())) \n",
    "disgust_days_list = map(int, od.values())"
   ]
  },
  {
   "cell_type": "code",
   "execution_count": 6,
   "metadata": {},
   "outputs": [],
   "source": [
    "# Trace for each emotion\n",
    "trace_anger = go.Scatter(x=x, y=anger_days_list, name='Anger', line = dict(width=5, color = 'rgb(255,0,0)'))\n",
    "trace_sadness = go.Scatter(x=x, y=sadness_days_list, name='Sadness', line = dict(width=5,  color = 'rgb(0,0,255)'))\n",
    "trace_joy = go.Scatter(x=x, y=joy_days_list, name='Joy', line = dict(width=5, color = 'rgb(255,255,0)'))\n",
    "trace_fear = go.Scatter(x=x, y=fear_days_list, name='Fear', line = dict(width=5, color = 'rgb(76,0,153)'))\n",
    "trace_disgust = go.Scatter(x=x, y=disgust_days_list, name='Disgust', line = dict(width=5, color = 'rgb(0,255,0)'))"
   ]
  },
  {
   "cell_type": "code",
   "execution_count": 7,
   "metadata": {},
   "outputs": [
    {
     "data": {
      "text/html": [
       "<iframe id=\"igraph\" scrolling=\"no\" style=\"border:none;\" seamless=\"seamless\" src=\"https://plot.ly/~kimmorsha/9.embed\" height=\"525px\" width=\"100%\"></iframe>"
      ],
      "text/plain": [
       "<plotly.tools.PlotlyDisplay object>"
      ]
     },
     "execution_count": 7,
     "metadata": {},
     "output_type": "execute_result"
    }
   ],
   "source": [
    "# Create the plot\n",
    "data = [trace_anger, trace_sadness, trace_joy, trace_fear, trace_disgust]\n",
    "\n",
    "updatemenus = list([\n",
    "    dict(type=\"buttons\",\n",
    "         active=-1,\n",
    "         buttons=list([   \n",
    "            dict(label = 'Anger',\n",
    "                 method = 'update',\n",
    "                 args = [{'visible': [True, False, False, False, False]},\n",
    "                         {'title': 'Anger'}]),\n",
    "            dict(label = 'Sadness',\n",
    "                 method = 'update',\n",
    "                 args = [{'visible': [False, True, False, False, False]},\n",
    "                         {'title': 'Sadness'}]),\n",
    "            dict(label = 'Joy',\n",
    "                 method = 'update',\n",
    "                 args = [{'visible': [False, False, True, False, False]},\n",
    "                         {'title': 'Joy'}]),\n",
    "            dict(label = 'Fear',\n",
    "                 method = 'update',\n",
    "                 args = [{'visible': [False, False, False, True, False]},\n",
    "                         {'title': 'Fear'}]),\n",
    "            dict(label = 'Disgust',\n",
    "                 method = 'update',\n",
    "                 args = [{'visible': [False, False, False, False, True]},\n",
    "                         {'title': 'Disgust'}]),\n",
    "            dict(label = 'RESET',\n",
    "                 method = 'update',\n",
    "                 args = [{'visible': [True, True, True, True, True]},\n",
    "                         {'title': 'Emotions of Marawi-Related Tweets from Philippine-based Twitter Users'}]),\n",
    "        ]),\n",
    "    )\n",
    "])\n",
    "                                                                \n",
    "layout = dict(\n",
    "                title='Emotions of Marawi-Related Tweets from Philippine-based Twitter Users',\n",
    "                xaxis= dict(\n",
    "                            title='Date',\n",
    "                            rangeselector=dict(\n",
    "                                                    buttons=list([\n",
    "                                                        dict(\n",
    "                                                            label='scope',\n",
    "                                                            step='all'),\n",
    "                                                        dict(count=1,\n",
    "                                                             label='by month',\n",
    "                                                             step='month',\n",
    "                                                             stepmode='forward')\n",
    "                                                    ])),\n",
    "                         \n",
    "                            rangeslider=dict(),\n",
    "                            type='date'),\n",
    "                yaxis= dict(title='Frequency'),\n",
    "                showlegend=True,\n",
    "                updatemenus=updatemenus\n",
    ")\n",
    "\n",
    "fig = dict(data=data, layout=layout)\n",
    "py.iplot(fig, filename='marawi-emotions')"
   ]
  },
  {
   "cell_type": "code",
   "execution_count": 8,
   "metadata": {},
   "outputs": [
    {
     "ename": "AttributeError",
     "evalue": "Can only use .dt accessor with datetimelike values",
     "output_type": "error",
     "traceback": [
      "\u001b[1;31m---------------------------------------------------------------------------\u001b[0m",
      "\u001b[1;31mAttributeError\u001b[0m                            Traceback (most recent call last)",
      "\u001b[1;32m<ipython-input-8-f5f7d3680cf6>\u001b[0m in \u001b[0;36m<module>\u001b[1;34m()\u001b[0m\n\u001b[0;32m      3\u001b[0m \u001b[0mx\u001b[0m \u001b[1;33m=\u001b[0m \u001b[1;33m[\u001b[0m\u001b[1;34m'May'\u001b[0m\u001b[1;33m,\u001b[0m \u001b[1;34m'June'\u001b[0m\u001b[1;33m,\u001b[0m \u001b[1;34m'July'\u001b[0m\u001b[1;33m,\u001b[0m \u001b[1;34m'August'\u001b[0m\u001b[1;33m,\u001b[0m \u001b[1;34m'September'\u001b[0m\u001b[1;33m,\u001b[0m \u001b[1;34m'October'\u001b[0m\u001b[1;33m]\u001b[0m\u001b[1;33m\u001b[0m\u001b[0m\n\u001b[0;32m      4\u001b[0m \u001b[1;33m\u001b[0m\u001b[0m\n\u001b[1;32m----> 5\u001b[1;33m \u001b[0manger_month_list\u001b[0m \u001b[1;33m=\u001b[0m \u001b[0manger_list\u001b[0m\u001b[1;33m.\u001b[0m\u001b[0mgroupby\u001b[0m\u001b[1;33m(\u001b[0m\u001b[0manger_list\u001b[0m\u001b[1;33m[\u001b[0m\u001b[1;34m'date'\u001b[0m\u001b[1;33m]\u001b[0m\u001b[1;33m.\u001b[0m\u001b[0mdt\u001b[0m\u001b[1;33m.\u001b[0m\u001b[0mstrftime\u001b[0m\u001b[1;33m(\u001b[0m\u001b[1;34m'%B'\u001b[0m\u001b[1;33m)\u001b[0m\u001b[1;33m)\u001b[0m\u001b[1;33m[\u001b[0m\u001b[1;34m'emotion'\u001b[0m\u001b[1;33m]\u001b[0m\u001b[1;33m.\u001b[0m\u001b[0mcount\u001b[0m\u001b[1;33m(\u001b[0m\u001b[1;33m)\u001b[0m\u001b[1;33m\u001b[0m\u001b[0m\n\u001b[0m\u001b[0;32m      6\u001b[0m \u001b[0msadness_month_list\u001b[0m \u001b[1;33m=\u001b[0m \u001b[0manger_list\u001b[0m\u001b[1;33m.\u001b[0m\u001b[0mgroupby\u001b[0m\u001b[1;33m(\u001b[0m\u001b[0msadness_list\u001b[0m\u001b[1;33m[\u001b[0m\u001b[1;34m'date'\u001b[0m\u001b[1;33m]\u001b[0m\u001b[1;33m.\u001b[0m\u001b[0mdt\u001b[0m\u001b[1;33m.\u001b[0m\u001b[0mstrftime\u001b[0m\u001b[1;33m(\u001b[0m\u001b[1;34m'%B'\u001b[0m\u001b[1;33m)\u001b[0m\u001b[1;33m)\u001b[0m\u001b[1;33m[\u001b[0m\u001b[1;34m'emotion'\u001b[0m\u001b[1;33m]\u001b[0m\u001b[1;33m.\u001b[0m\u001b[0mcount\u001b[0m\u001b[1;33m(\u001b[0m\u001b[1;33m)\u001b[0m\u001b[1;33m\u001b[0m\u001b[0m\n\u001b[0;32m      7\u001b[0m \u001b[0mjoy_month_list\u001b[0m \u001b[1;33m=\u001b[0m \u001b[0manger_list\u001b[0m\u001b[1;33m.\u001b[0m\u001b[0mgroupby\u001b[0m\u001b[1;33m(\u001b[0m\u001b[0mjoy_list\u001b[0m\u001b[1;33m[\u001b[0m\u001b[1;34m'date'\u001b[0m\u001b[1;33m]\u001b[0m\u001b[1;33m.\u001b[0m\u001b[0mdt\u001b[0m\u001b[1;33m.\u001b[0m\u001b[0mstrftime\u001b[0m\u001b[1;33m(\u001b[0m\u001b[1;34m'%B'\u001b[0m\u001b[1;33m)\u001b[0m\u001b[1;33m)\u001b[0m\u001b[1;33m[\u001b[0m\u001b[1;34m'emotion'\u001b[0m\u001b[1;33m]\u001b[0m\u001b[1;33m.\u001b[0m\u001b[0mcount\u001b[0m\u001b[1;33m(\u001b[0m\u001b[1;33m)\u001b[0m\u001b[1;33m\u001b[0m\u001b[0m\n",
      "\u001b[1;32mc:\\python27\\lib\\site-packages\\pandas\\core\\generic.pyc\u001b[0m in \u001b[0;36m__getattr__\u001b[1;34m(self, name)\u001b[0m\n\u001b[0;32m   3608\u001b[0m         if (name in self._internal_names_set or name in self._metadata or\n\u001b[0;32m   3609\u001b[0m                 name in self._accessors):\n\u001b[1;32m-> 3610\u001b[1;33m             \u001b[1;32mreturn\u001b[0m \u001b[0mobject\u001b[0m\u001b[1;33m.\u001b[0m\u001b[0m__getattribute__\u001b[0m\u001b[1;33m(\u001b[0m\u001b[0mself\u001b[0m\u001b[1;33m,\u001b[0m \u001b[0mname\u001b[0m\u001b[1;33m)\u001b[0m\u001b[1;33m\u001b[0m\u001b[0m\n\u001b[0m\u001b[0;32m   3611\u001b[0m         \u001b[1;32melse\u001b[0m\u001b[1;33m:\u001b[0m\u001b[1;33m\u001b[0m\u001b[0m\n\u001b[0;32m   3612\u001b[0m             \u001b[1;32mif\u001b[0m \u001b[0mname\u001b[0m \u001b[1;32min\u001b[0m \u001b[0mself\u001b[0m\u001b[1;33m.\u001b[0m\u001b[0m_info_axis\u001b[0m\u001b[1;33m:\u001b[0m\u001b[1;33m\u001b[0m\u001b[0m\n",
      "\u001b[1;32mc:\\python27\\lib\\site-packages\\pandas\\core\\accessor.pyc\u001b[0m in \u001b[0;36m__get__\u001b[1;34m(self, instance, owner)\u001b[0m\n\u001b[0;32m     52\u001b[0m             \u001b[1;31m# this ensures that Series.str.<method> is well defined\u001b[0m\u001b[1;33m\u001b[0m\u001b[1;33m\u001b[0m\u001b[0m\n\u001b[0;32m     53\u001b[0m             \u001b[1;32mreturn\u001b[0m \u001b[0mself\u001b[0m\u001b[1;33m.\u001b[0m\u001b[0maccessor_cls\u001b[0m\u001b[1;33m\u001b[0m\u001b[0m\n\u001b[1;32m---> 54\u001b[1;33m         \u001b[1;32mreturn\u001b[0m \u001b[0mself\u001b[0m\u001b[1;33m.\u001b[0m\u001b[0mconstruct_accessor\u001b[0m\u001b[1;33m(\u001b[0m\u001b[0minstance\u001b[0m\u001b[1;33m)\u001b[0m\u001b[1;33m\u001b[0m\u001b[0m\n\u001b[0m\u001b[0;32m     55\u001b[0m \u001b[1;33m\u001b[0m\u001b[0m\n\u001b[0;32m     56\u001b[0m     \u001b[1;32mdef\u001b[0m \u001b[0m__set__\u001b[0m\u001b[1;33m(\u001b[0m\u001b[0mself\u001b[0m\u001b[1;33m,\u001b[0m \u001b[0minstance\u001b[0m\u001b[1;33m,\u001b[0m \u001b[0mvalue\u001b[0m\u001b[1;33m)\u001b[0m\u001b[1;33m:\u001b[0m\u001b[1;33m\u001b[0m\u001b[0m\n",
      "\u001b[1;32mc:\\python27\\lib\\site-packages\\pandas\\core\\indexes\\accessors.pyc\u001b[0m in \u001b[0;36m_make_accessor\u001b[1;34m(cls, data)\u001b[0m\n\u001b[0;32m    256\u001b[0m             \u001b[1;32mreturn\u001b[0m \u001b[0mmaybe_to_datetimelike\u001b[0m\u001b[1;33m(\u001b[0m\u001b[0mdata\u001b[0m\u001b[1;33m)\u001b[0m\u001b[1;33m\u001b[0m\u001b[0m\n\u001b[0;32m    257\u001b[0m         \u001b[1;32mexcept\u001b[0m \u001b[0mException\u001b[0m\u001b[1;33m:\u001b[0m\u001b[1;33m\u001b[0m\u001b[0m\n\u001b[1;32m--> 258\u001b[1;33m             raise AttributeError(\"Can only use .dt accessor with \"\n\u001b[0m\u001b[0;32m    259\u001b[0m                                  \"datetimelike values\")\n",
      "\u001b[1;31mAttributeError\u001b[0m: Can only use .dt accessor with datetimelike values"
     ]
    }
   ],
   "source": [
    "### for the Stacked Bar Graph\n",
    "\n",
    "x = ['May', 'June', 'July', 'August', 'September', 'October']\n",
    "\n",
    "anger_month_list = anger_list.groupby(anger_list['date'].dt.strftime('%m'))['emotion'].count()\n",
    "sadness_month_list = anger_list.groupby(sadness_list['date'].dt.strftime('%m'))['emotion'].count()\n",
    "joy_month_list = anger_list.groupby(joy_list['date'].dt.strftime('%m'))['emotion'].count()\n",
    "fear_month_list = anger_list.groupby(fear_list['date'].dt.strftime('%m'))['emotion'].count()\n",
    "disgust_month_list = anger_list.groupby(disgust_list['date'].dt.strftime('%m'))['emotion'].count()\n",
    "\n",
    "# Group by month and count number of emotion \n",
    "od = collections.OrderedDict(sorted(anger_month_list.to_dict().items())) \n",
    "anger_month_list = map(int, od.values())\n",
    "\n",
    "od = collections.OrderedDict(sorted(sadness_month_list.to_dict().items())) \n",
    "sadness_month_list = map(int, od.values())\n",
    "\n",
    "od = collections.OrderedDict(sorted(joy_month_list.to_dict().items())) \n",
    "joy_month_list = map(int, od.values())\n",
    "\n",
    "od = collections.OrderedDict(sorted(fear_month_list.to_dict().items())) \n",
    "fear_month_list = map(int, od.values())\n",
    "\n",
    "od = collections.OrderedDict(sorted(disgust_month_list.to_dict().items())) \n",
    "disgust_month_list = map(int, od.values())\n",
    "\n",
    "# Trace for each emotion\n",
    "trace_anger = go.Bar(x=x, y=anger_days_list, name='Anger', marker= dict(color = 'rgb(255,0,0)', line = dict(width=0.5, color = 'rgb(255,0,0)')), opacity=0.7)\n",
    "trace_sadness = go.Bar(x=x, y=sadness_days_list, name='Sadness', marker= dict(color = 'rgb(0,0,255)', line = dict(width=5,  color = 'rgb(0,0,255)')), opacity=0.7)\n",
    "trace_joy = go.Bar(x=x, y=joy_days_list, name='Joy', marker= dict(color = 'rgb(255,255,0)', line = dict(width=5, color = 'rgb(255,255,0)')), opacity=0.7)\n",
    "trace_fear = go.Bar(x=x, y=fear_days_list, name='Fear', marker= dict(color = 'rgb(76,0,153)', line = dict(width=5, color = 'rgb(76,0,153)')), opacity=0.7)\n",
    "trace_disgust = go.Bar(x=x, y=disgust_days_list, name='Disgust', marker= dict(color = 'rgb(0,255,0)', line = dict(width=5, color = 'rgb(0,255,0)')), opacity=0.7)"
   ]
  },
  {
   "cell_type": "code",
   "execution_count": 246,
   "metadata": {},
   "outputs": [
    {
     "data": {
      "text/html": [
       "<iframe id=\"igraph\" scrolling=\"no\" style=\"border:none;\" seamless=\"seamless\" src=\"https://plot.ly/~kimmorsha/14.embed\" height=\"525px\" width=\"100%\"></iframe>"
      ],
      "text/plain": [
       "<plotly.tools.PlotlyDisplay object>"
      ]
     },
     "execution_count": 246,
     "metadata": {},
     "output_type": "execute_result"
    }
   ],
   "source": [
    "# Create the stacked bar chart\n",
    "data = [trace_anger, trace_sadness, trace_joy, trace_fear, trace_disgust]\n",
    "                                                                \n",
    "layout = dict(title='Marawi Emotions', xaxis= dict(title='Month', type='str'), yaxis= dict(title='Frequency'), barmode='grouped')\n",
    "fig = dict(data=data, layout=layout)\n",
    "py.iplot(fig, filename='bar-graph')"
   ]
  },
  {
   "cell_type": "code",
   "execution_count": null,
   "metadata": {},
   "outputs": [],
   "source": []
  },
  {
   "cell_type": "code",
   "execution_count": null,
   "metadata": {},
   "outputs": [],
   "source": []
  }
 ],
 "metadata": {
  "kernelspec": {
   "display_name": "Python 2",
   "language": "python",
   "name": "python2"
  },
  "language_info": {
   "codemirror_mode": {
    "name": "ipython",
    "version": 2
   },
   "file_extension": ".py",
   "mimetype": "text/x-python",
   "name": "python",
   "nbconvert_exporter": "python",
   "pygments_lexer": "ipython2",
   "version": "2.7.14"
  }
 },
 "nbformat": 4,
 "nbformat_minor": 2
}
