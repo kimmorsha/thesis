{
 "cells": [
  {
   "cell_type": "code",
   "execution_count": 5,
   "metadata": {},
   "outputs": [],
   "source": [
    "import pandas as pd\n",
    "import ipywidgets as widgets\n",
    "from IPython.display import display\n",
    "\n",
    "class DateRangePicker(object):\n",
    "    def __init__(self,start,end,freq='D',fmt='%Y-%m-%d'):\n",
    "        \"\"\"\n",
    "        Parameters\n",
    "        ----------\n",
    "        start : string or datetime-like\n",
    "            Left bound of the period\n",
    "        end : string or datetime-like\n",
    "            Left bound of the period\n",
    "        freq : string or pandas.DateOffset, default='D'\n",
    "            Frequency strings can have multiples, e.g. '5H' \n",
    "        fmt : string, defauly = '%Y-%m-%d'\n",
    "            Format to use to display the selected period\n",
    "\n",
    "        \"\"\"\n",
    "        self.date_range=pd.date_range(start=start,end=end,freq=freq)\n",
    "        options = [(item.strftime(fmt),item) for item in self.date_range]\n",
    "        self.slider_start = widgets.SelectionSlider(\n",
    "            description='start',\n",
    "            options=options,\n",
    "            continuous_update=False\n",
    "        )\n",
    "        self.slider_end = widgets.SelectionSlider(\n",
    "            description='end',\n",
    "            options=options,\n",
    "            continuous_update=False,\n",
    "            value=options[-1][1]\n",
    "        )\n",
    "\n",
    "        self.slider_start.on_trait_change(self.slider_start_changed, 'value')\n",
    "        self.slider_end.on_trait_change(self.slider_end_changed, 'value')\n",
    "\n",
    "        self.widget = widgets.Box(children=[self.slider_start,self.slider_end])\n",
    "\n",
    "    def slider_start_changed(self,key,value):\n",
    "        self.slider_end.value=max(self.slider_start.value,self.slider_end.value)\n",
    "        self._observe(start=self.slider_start.value,end=self.slider_end.value)\n",
    "\n",
    "    def slider_end_changed(self,key,value):\n",
    "        self.slider_start.value=min(self.slider_start.value,self.slider_end.value)\n",
    "        self._observe(start=self.slider_start.value,end=self.slider_end.value)\n",
    "\n",
    "    def display(self):\n",
    "        display(self.slider_start,self.slider_end)\n",
    "\n",
    "    def _observe(self,**kwargs):\n",
    "        if hasattr(self,'observe'):\n",
    "            self.observe(**kwargs)\n",
    "\n",
    "def fct(start,end):\n",
    "    print start,end"
   ]
  },
  {
   "cell_type": "code",
   "execution_count": 6,
   "metadata": {},
   "outputs": [
    {
     "ename": "TraitError",
     "evalue": "options must be nonempty",
     "output_type": "error",
     "traceback": [
      "\u001b[1;31m---------------------------------------------------------------------------\u001b[0m",
      "\u001b[1;31mTraitError\u001b[0m                                Traceback (most recent call last)",
      "\u001b[1;32m<ipython-input-6-b42c8ef9d43a>\u001b[0m in \u001b[0;36m<module>\u001b[1;34m()\u001b[0m\n\u001b[1;32m----> 1\u001b[1;33m \u001b[0mw\u001b[0m\u001b[1;33m=\u001b[0m\u001b[0mDateRangePicker\u001b[0m\u001b[1;33m(\u001b[0m\u001b[0mstart\u001b[0m\u001b[1;33m=\u001b[0m\u001b[1;34m'2017-05-24'\u001b[0m\u001b[1;33m,\u001b[0m\u001b[0mend\u001b[0m\u001b[1;33m=\u001b[0m\u001b[1;34m\"2015-10-23\"\u001b[0m\u001b[1;33m,\u001b[0m\u001b[0mfreq\u001b[0m\u001b[1;33m=\u001b[0m\u001b[1;34m'D'\u001b[0m\u001b[1;33m,\u001b[0m\u001b[0mfmt\u001b[0m\u001b[1;33m=\u001b[0m\u001b[1;34m'%Y-%m-%d'\u001b[0m\u001b[1;33m)\u001b[0m\u001b[1;33m\u001b[0m\u001b[0m\n\u001b[0m\u001b[0;32m      2\u001b[0m \u001b[0mw\u001b[0m\u001b[1;33m.\u001b[0m\u001b[0mobserve\u001b[0m\u001b[1;33m=\u001b[0m\u001b[0mfct\u001b[0m\u001b[1;33m\u001b[0m\u001b[0m\n\u001b[0;32m      3\u001b[0m \u001b[0mw\u001b[0m\u001b[1;33m.\u001b[0m\u001b[0mdisplay\u001b[0m\u001b[1;33m(\u001b[0m\u001b[1;33m)\u001b[0m\u001b[1;33m\u001b[0m\u001b[0m\n",
      "\u001b[1;32m<ipython-input-5-a673243812f5>\u001b[0m in \u001b[0;36m__init__\u001b[1;34m(self, start, end, freq, fmt)\u001b[0m\n\u001b[0;32m     23\u001b[0m             \u001b[0mdescription\u001b[0m\u001b[1;33m=\u001b[0m\u001b[1;34m'start'\u001b[0m\u001b[1;33m,\u001b[0m\u001b[1;33m\u001b[0m\u001b[0m\n\u001b[0;32m     24\u001b[0m             \u001b[0moptions\u001b[0m\u001b[1;33m=\u001b[0m\u001b[0moptions\u001b[0m\u001b[1;33m,\u001b[0m\u001b[1;33m\u001b[0m\u001b[0m\n\u001b[1;32m---> 25\u001b[1;33m             \u001b[0mcontinuous_update\u001b[0m\u001b[1;33m=\u001b[0m\u001b[0mFalse\u001b[0m\u001b[1;33m\u001b[0m\u001b[0m\n\u001b[0m\u001b[0;32m     26\u001b[0m         )\n\u001b[0;32m     27\u001b[0m         self.slider_end = widgets.SelectionSlider(\n",
      "\u001b[1;32mc:\\python27\\lib\\site-packages\\ipywidgets\\widgets\\widget_selection.pyc\u001b[0m in \u001b[0;36m__init__\u001b[1;34m(self, *args, **kwargs)\u001b[0m\n\u001b[0;32m    516\u001b[0m     \u001b[1;32mdef\u001b[0m \u001b[0m__init__\u001b[0m\u001b[1;33m(\u001b[0m\u001b[0mself\u001b[0m\u001b[1;33m,\u001b[0m \u001b[1;33m*\u001b[0m\u001b[0margs\u001b[0m\u001b[1;33m,\u001b[0m \u001b[1;33m**\u001b[0m\u001b[0mkwargs\u001b[0m\u001b[1;33m)\u001b[0m\u001b[1;33m:\u001b[0m\u001b[1;33m\u001b[0m\u001b[0m\n\u001b[0;32m    517\u001b[0m         \u001b[1;32mif\u001b[0m \u001b[0mlen\u001b[0m\u001b[1;33m(\u001b[0m\u001b[0mkwargs\u001b[0m\u001b[1;33m.\u001b[0m\u001b[0mget\u001b[0m\u001b[1;33m(\u001b[0m\u001b[1;34m'options'\u001b[0m\u001b[1;33m,\u001b[0m \u001b[1;33m(\u001b[0m\u001b[1;33m)\u001b[0m\u001b[1;33m)\u001b[0m\u001b[1;33m)\u001b[0m \u001b[1;33m==\u001b[0m \u001b[1;36m0\u001b[0m\u001b[1;33m:\u001b[0m\u001b[1;33m\u001b[0m\u001b[0m\n\u001b[1;32m--> 518\u001b[1;33m             \u001b[1;32mraise\u001b[0m \u001b[0mTraitError\u001b[0m\u001b[1;33m(\u001b[0m\u001b[1;34m'options must be nonempty'\u001b[0m\u001b[1;33m)\u001b[0m\u001b[1;33m\u001b[0m\u001b[0m\n\u001b[0m\u001b[0;32m    519\u001b[0m         \u001b[0msuper\u001b[0m\u001b[1;33m(\u001b[0m\u001b[0m_SelectionNonempty\u001b[0m\u001b[1;33m,\u001b[0m \u001b[0mself\u001b[0m\u001b[1;33m)\u001b[0m\u001b[1;33m.\u001b[0m\u001b[0m__init__\u001b[0m\u001b[1;33m(\u001b[0m\u001b[1;33m*\u001b[0m\u001b[0margs\u001b[0m\u001b[1;33m,\u001b[0m \u001b[1;33m**\u001b[0m\u001b[0mkwargs\u001b[0m\u001b[1;33m)\u001b[0m\u001b[1;33m\u001b[0m\u001b[0m\n\u001b[0;32m    520\u001b[0m \u001b[1;33m\u001b[0m\u001b[0m\n",
      "\u001b[1;31mTraitError\u001b[0m: options must be nonempty"
     ]
    }
   ],
   "source": []
  },
  {
   "cell_type": "code",
   "execution_count": 7,
   "metadata": {},
   "outputs": [
    {
     "name": "stderr",
     "output_type": "stream",
     "text": [
      "c:\\python27\\lib\\site-packages\\ipykernel_launcher.py:34: DeprecationWarning: on_trait_change is deprecated in traitlets 4.1: use observe instead\n",
      "c:\\python27\\lib\\site-packages\\ipykernel_launcher.py:35: DeprecationWarning: on_trait_change is deprecated in traitlets 4.1: use observe instead\n"
     ]
    },
    {
     "data": {
      "application/vnd.jupyter.widget-view+json": {
       "model_id": "887d258a208740d089a043be7206b67e",
       "version_major": 2,
       "version_minor": 0
      },
      "text/plain": [
       "U2VsZWN0aW9uU2xpZGVyKGNvbnRpbnVvdXNfdXBkYXRlPUZhbHNlLCBkZXNjcmlwdGlvbj11J3N0YXJ0Jywgb3B0aW9ucz0oKCcyMDE3LTA1LTI0JywgVGltZXN0YW1wKCcyMDE3LTA1LTI0IDDigKY=\n"
      ]
     },
     "metadata": {},
     "output_type": "display_data"
    },
    {
     "data": {
      "application/vnd.jupyter.widget-view+json": {
       "model_id": "5e19ad89ea1d447f879081e72b404b60",
       "version_major": 2,
       "version_minor": 0
      },
      "text/plain": [
       "U2VsZWN0aW9uU2xpZGVyKGNvbnRpbnVvdXNfdXBkYXRlPUZhbHNlLCBkZXNjcmlwdGlvbj11J2VuZCcsIGluZGV4PTE1Miwgb3B0aW9ucz0oKCcyMDE3LTA1LTI0JywgVGltZXN0YW1wKCcyMDHigKY=\n"
      ]
     },
     "metadata": {},
     "output_type": "display_data"
    },
    {
     "name": "stdout",
     "output_type": "stream",
     "text": [
      "2017-10-23 00:00:00 2017-10-23 00:00:00\n"
     ]
    }
   ],
   "source": [
    "w=DateRangePicker(start='2017-05-24',end=\"2017-10-23\",freq='D',fmt='%Y-%m-%d')\n",
    "w.observe=fct\n",
    "w.display()"
   ]
  },
  {
   "cell_type": "code",
   "execution_count": null,
   "metadata": {},
   "outputs": [],
   "source": []
  }
 ],
 "metadata": {
  "kernelspec": {
   "display_name": "Python 2",
   "language": "python",
   "name": "python2"
  },
  "language_info": {
   "codemirror_mode": {
    "name": "ipython",
    "version": 2
   },
   "file_extension": ".py",
   "mimetype": "text/x-python",
   "name": "python",
   "nbconvert_exporter": "python",
   "pygments_lexer": "ipython2",
   "version": "2.7.14"
  }
 },
 "nbformat": 4,
 "nbformat_minor": 2
}
