{
 "cells": [
  {
   "cell_type": "code",
   "execution_count": 40,
   "metadata": {},
   "outputs": [],
   "source": [
    "from datetime import datetime\n",
    "import dateutil\n",
    "import numpy as np\n",
    "import pandas as pd\n",
    "\n",
    "import cufflinks as cf\n",
    "\n",
    "import plotly.plotly as py\n",
    "import plotly.tools as tls\n",
    "import plotly.graph_objs as go\n",
    "import collections\n",
    "\n",
    "tls.set_credentials_file(username='kimmorsha' , api_key='gOupG4bDv8MLp1AuHM1S')"
   ]
  },
  {
   "cell_type": "code",
   "execution_count": 41,
   "metadata": {},
   "outputs": [],
   "source": [
    "filename = \"../dataset/marawi_tweets_final.csv\"\n",
    "\n",
    "# headers= [\"username\", \"tweet\", \"latitude\", \"longitude\", \"language\", \"anger\", \"joy\", \"sadness\", \"fear\", \"disgust\", \"emotion\", \"percentage\"]\n",
    "# dtypes = [str, str, float, float, str, float, float, float, float, float, str, float] \n",
    "# dateCols = ['date', 'time']\n",
    "\n",
    "df = pd.read_csv(filename)\n",
    "\n",
    "df[\"date\"] = pd.to_datetime(df['date'], format='%m/%d/%Y')\n"
   ]
  },
  {
   "cell_type": "code",
   "execution_count": 45,
   "metadata": {},
   "outputs": [
    {
     "data": {
      "text/plain": [
       "array(['2017-05-24', '2017-05-25', '2017-05-26', '2017-05-27',\n",
       "       '2017-05-28', '2017-05-29', '2017-05-30', '2017-05-31',\n",
       "       '2017-06-01', '2017-06-02', '2017-06-03', '2017-06-04',\n",
       "       '2017-06-05', '2017-06-06', '2017-06-07', '2017-06-08',\n",
       "       '2017-06-09', '2017-06-10', '2017-06-11', '2017-06-12',\n",
       "       '2017-06-13', '2017-06-14', '2017-06-15', '2017-06-16',\n",
       "       '2017-06-17', '2017-06-18', '2017-06-19', '2017-06-20',\n",
       "       '2017-06-21', '2017-06-22', '2017-06-23', '2017-06-24',\n",
       "       '2017-06-25', '2017-06-26', '2017-06-27', '2017-06-28',\n",
       "       '2017-06-29', '2017-06-30', '2017-07-01', '2017-07-02',\n",
       "       '2017-07-03', '2017-07-04', '2017-07-05', '2017-07-06',\n",
       "       '2017-07-07', '2017-07-09', '2017-07-10', '2017-07-11',\n",
       "       '2017-07-12', '2017-07-13', '2017-07-14', '2017-07-15',\n",
       "       '2017-07-16', '2017-07-17', '2017-07-18', '2017-07-19',\n",
       "       '2017-07-20', '2017-07-21', '2017-07-22', '2017-07-23',\n",
       "       '2017-07-24', '2017-07-25', '2017-07-26', '2017-07-27',\n",
       "       '2017-07-28', '2017-07-29', '2017-07-30', '2017-07-31',\n",
       "       '2017-08-01', '2017-08-02', '2017-08-03', '2017-08-04',\n",
       "       '2017-08-05', '2017-08-06', '2017-08-07', '2017-08-08',\n",
       "       '2017-08-09', '2017-08-10', '2017-08-11', '2017-08-12',\n",
       "       '2017-08-13', '2017-08-14', '2017-08-15', '2017-08-16',\n",
       "       '2017-08-17', '2017-08-18', '2017-08-19', '2017-08-20',\n",
       "       '2017-08-21', '2017-08-22', '2017-08-23', '2017-08-24',\n",
       "       '2017-08-25', '2017-08-26', '2017-08-27', '2017-08-28',\n",
       "       '2017-08-29', '2017-08-30', '2017-08-31', '2017-09-01',\n",
       "       '2017-09-02', '2017-09-04', '2017-09-05', '2017-09-06',\n",
       "       '2017-09-07', '2017-09-08', '2017-09-09', '2017-09-10',\n",
       "       '2017-09-11', '2017-09-12', '2017-09-13', '2017-09-14',\n",
       "       '2017-09-15', '2017-09-16', '2017-09-17', '2017-09-18',\n",
       "       '2017-09-19', '2017-09-20', '2017-09-21', '2017-09-22',\n",
       "       '2017-09-23', '2017-09-24', '2017-09-25', '2017-09-26',\n",
       "       '2017-09-27', '2017-09-28', '2017-09-29', '2017-09-30',\n",
       "       '2017-10-01', '2017-10-02', '2017-10-03', '2017-10-04',\n",
       "       '2017-10-05', '2017-10-06', '2017-10-07', '2017-10-08',\n",
       "       '2017-10-09', '2017-10-10', '2017-10-11', '2017-10-12',\n",
       "       '2017-10-13', '2017-10-14', '2017-10-15', '2017-10-16',\n",
       "       '2017-10-17', '2017-10-18', '2017-10-19', '2017-10-20',\n",
       "       '2017-10-22', '2017-10-23'], dtype=object)"
      ]
     },
     "execution_count": 45,
     "metadata": {},
     "output_type": "execute_result"
    }
   ],
   "source": [
    "# Get list of days\n",
    "\n",
    "days = df[\"date\"]\n",
    "days = list(sorted(days.astype(str)))\n",
    "days = sorted(days, key=lambda x: datetime.strptime(x, '%Y-%m-%d'))\n",
    "df['date'] = days\n",
    "\n",
    "days = df[\"date\"].unique()\n",
    "days"
   ]
  },
  {
   "cell_type": "code",
   "execution_count": 43,
   "metadata": {},
   "outputs": [],
   "source": [
    "# Get x-axis for scatterplot which is the date \n",
    "\n",
    "x = days\n",
    "\n",
    "# Get lists by emotions\n",
    "anger_list = df[df['emotion'] == 'anger']  \n",
    "joy_list = df[df['emotion'] == 'joy']  \n",
    "sadness_list = df[df['emotion'] == 'sadness']  \n",
    "fear_list = df[df['emotion'] == 'fear']  \n",
    "disgust_list = df[df['emotion'] == 'disgust']  "
   ]
  },
  {
   "cell_type": "code",
   "execution_count": 47,
   "metadata": {},
   "outputs": [
    {
     "ename": "AttributeError",
     "evalue": "'Series' object has no attribute 'sorted'",
     "output_type": "error",
     "traceback": [
      "\u001b[1;31m---------------------------------------------------------------------------\u001b[0m",
      "\u001b[1;31mAttributeError\u001b[0m                            Traceback (most recent call last)",
      "\u001b[1;32m<ipython-input-47-3137805ca2bb>\u001b[0m in \u001b[0;36m<module>\u001b[1;34m()\u001b[0m\n\u001b[0;32m      7\u001b[0m \u001b[0mdisgust_days_list\u001b[0m \u001b[1;33m=\u001b[0m \u001b[0mdisgust_list\u001b[0m\u001b[1;33m[\u001b[0m\u001b[1;34m'date'\u001b[0m\u001b[1;33m]\u001b[0m\u001b[1;33m.\u001b[0m\u001b[0mvalue_counts\u001b[0m\u001b[1;33m(\u001b[0m\u001b[1;33m)\u001b[0m\u001b[1;33m\u001b[0m\u001b[0m\n\u001b[0;32m      8\u001b[0m \u001b[1;33m\u001b[0m\u001b[0m\n\u001b[1;32m----> 9\u001b[1;33m \u001b[1;32mprint\u001b[0m\u001b[1;33m(\u001b[0m\u001b[0manger_days_list\u001b[0m\u001b[1;33m.\u001b[0m\u001b[0msorted\u001b[0m\u001b[1;33m(\u001b[0m\u001b[1;33m)\u001b[0m\u001b[1;33m)\u001b[0m\u001b[1;33m\u001b[0m\u001b[0m\n\u001b[0m\u001b[0;32m     10\u001b[0m \u001b[1;31m# for y values in the scatter plot\u001b[0m\u001b[1;33m\u001b[0m\u001b[1;33m\u001b[0m\u001b[0m\n\u001b[0;32m     11\u001b[0m \u001b[1;33m\u001b[0m\u001b[0m\n",
      "\u001b[1;32mc:\\python27\\lib\\site-packages\\pandas\\core\\generic.pyc\u001b[0m in \u001b[0;36m__getattr__\u001b[1;34m(self, name)\u001b[0m\n\u001b[0;32m   3612\u001b[0m             \u001b[1;32mif\u001b[0m \u001b[0mname\u001b[0m \u001b[1;32min\u001b[0m \u001b[0mself\u001b[0m\u001b[1;33m.\u001b[0m\u001b[0m_info_axis\u001b[0m\u001b[1;33m:\u001b[0m\u001b[1;33m\u001b[0m\u001b[0m\n\u001b[0;32m   3613\u001b[0m                 \u001b[1;32mreturn\u001b[0m \u001b[0mself\u001b[0m\u001b[1;33m[\u001b[0m\u001b[0mname\u001b[0m\u001b[1;33m]\u001b[0m\u001b[1;33m\u001b[0m\u001b[0m\n\u001b[1;32m-> 3614\u001b[1;33m             \u001b[1;32mreturn\u001b[0m \u001b[0mobject\u001b[0m\u001b[1;33m.\u001b[0m\u001b[0m__getattribute__\u001b[0m\u001b[1;33m(\u001b[0m\u001b[0mself\u001b[0m\u001b[1;33m,\u001b[0m \u001b[0mname\u001b[0m\u001b[1;33m)\u001b[0m\u001b[1;33m\u001b[0m\u001b[0m\n\u001b[0m\u001b[0;32m   3615\u001b[0m \u001b[1;33m\u001b[0m\u001b[0m\n\u001b[0;32m   3616\u001b[0m     \u001b[1;32mdef\u001b[0m \u001b[0m__setattr__\u001b[0m\u001b[1;33m(\u001b[0m\u001b[0mself\u001b[0m\u001b[1;33m,\u001b[0m \u001b[0mname\u001b[0m\u001b[1;33m,\u001b[0m \u001b[0mvalue\u001b[0m\u001b[1;33m)\u001b[0m\u001b[1;33m:\u001b[0m\u001b[1;33m\u001b[0m\u001b[0m\n",
      "\u001b[1;31mAttributeError\u001b[0m: 'Series' object has no attribute 'sorted'"
     ]
    }
   ],
   "source": [
    "# Group by day and count number of emotion \n",
    "\n",
    "anger_days_list = anger_list['date'].value_counts()\n",
    "sadness_days_list = sadness_list['date'].value_counts()\n",
    "joy_days_list = joy_list['date'].value_counts()\n",
    "fear_days_list = fear_list['date'].value_counts()\n",
    "disgust_days_list = disgust_list['date'].value_counts()\n",
    "\n",
    "print(anger_days_list.sorted())\n",
    "# for y values in the scatter plot\n",
    "\n",
    "od = collections.OrderedDict(sorted(anger_days_list.to_dict().items())) \n",
    "anger_days_list = map(int, od.values())\n",
    "\n",
    "od = collections.OrderedDict(sorted(sadness_days_list.to_dict().items())) \n",
    "sadness_days_list = map(int, od.values())\n",
    "\n",
    "od = collections.OrderedDict(sorted(joy_days_list.to_dict().items())) \n",
    "joy_days_list = map(int, od.values())\n",
    "\n",
    "od = collections.OrderedDict(sorted(fear_days_list.to_dict().items())) \n",
    "fear_days_list = map(int, od.values())\n",
    "\n",
    "od = collections.OrderedDict(sorted(disgust_days_list.to_dict().items())) \n",
    "disgust_days_list = map(int, od.values())"
   ]
  },
  {
   "cell_type": "code",
   "execution_count": 31,
   "metadata": {},
   "outputs": [],
   "source": [
    "# Trace for each emotion\n",
    "trace_anger = go.Scatter(x=x, y=anger_days_list, name='Anger', line = dict(width=5, color = 'rgb(255,0,0)'))\n",
    "trace_sadness = go.Scatter(x=x, y=sadness_days_list, name='Sadness', line = dict(width=5,  color = 'rgb(0,0,255)'))\n",
    "trace_joy = go.Scatter(x=x, y=joy_days_list, name='Joy', line = dict(width=5, color = 'rgb(255,255,0)'))\n",
    "trace_fear = go.Scatter(x=x, y=fear_days_list, name='Fear', line = dict(width=5, color = 'rgb(76,0,153)'))\n",
    "trace_disgust = go.Scatter(x=x, y=disgust_days_list, name='Disgust', line = dict(width=5, color = 'rgb(0,255,0)'))"
   ]
  },
  {
   "cell_type": "code",
   "execution_count": 32,
   "metadata": {},
   "outputs": [
    {
     "data": {
      "text/html": [
       "<iframe id=\"igraph\" scrolling=\"no\" style=\"border:none;\" seamless=\"seamless\" src=\"https://plot.ly/~kimmorsha/9.embed\" height=\"525px\" width=\"100%\"></iframe>"
      ],
      "text/plain": [
       "<plotly.tools.PlotlyDisplay object>"
      ]
     },
     "execution_count": 32,
     "metadata": {},
     "output_type": "execute_result"
    }
   ],
   "source": [
    "# Create the plot\n",
    "data = [trace_anger, trace_sadness, trace_joy, trace_fear, trace_disgust]\n",
    "\n",
    "updatemenus = list([\n",
    "    dict(type=\"buttons\",\n",
    "         active=-1,\n",
    "         buttons=list([   \n",
    "            dict(label = 'Anger',\n",
    "                 method = 'update',\n",
    "                 args = [{'visible': [True, False, False, False, False]},\n",
    "                         {'title': 'Anger'}]),\n",
    "            dict(label = 'Sadness',\n",
    "                 method = 'update',\n",
    "                 args = [{'visible': [False, True, False, False, False]},\n",
    "                         {'title': 'Sadness'}]),\n",
    "            dict(label = 'Joy',\n",
    "                 method = 'update',\n",
    "                 args = [{'visible': [False, False, True, False, False]},\n",
    "                         {'title': 'Joy'}]),\n",
    "            dict(label = 'Fear',\n",
    "                 method = 'update',\n",
    "                 args = [{'visible': [False, False, False, True, False]},\n",
    "                         {'title': 'Fear'}]),\n",
    "            dict(label = 'Disgust',\n",
    "                 method = 'update',\n",
    "                 args = [{'visible': [False, False, False, False, True]},\n",
    "                         {'title': 'Disgust'}]),\n",
    "            dict(label = 'RESET',\n",
    "                 method = 'update',\n",
    "                 args = [{'visible': [True, True, True, True, True]},\n",
    "                         {'title': 'Emotions of Marawi-Related Tweets from Philippine-based Twitter Users'}]),\n",
    "        ]),\n",
    "    )\n",
    "])\n",
    "                                                                \n",
    "layout = dict(\n",
    "                title='Emotions of Marawi-Related Tweets from Philippine-based Twitter Users',\n",
    "                xaxis= dict(\n",
    "                            title='Date',\n",
    "                            rangeselector=dict(\n",
    "                                                    buttons=list([\n",
    "                                                        dict(\n",
    "                                                            label='scope',\n",
    "                                                            step='all'),\n",
    "                                                        dict(count=1,\n",
    "                                                             label='by month',\n",
    "                                                             step='month',\n",
    "                                                             stepmode='forward')\n",
    "                                                    ])),\n",
    "                         \n",
    "                            rangeslider=dict(),\n",
    "                            type='date'),\n",
    "                yaxis= dict(title='Frequency'),\n",
    "                showlegend=True,\n",
    "                updatemenus=updatemenus\n",
    ")\n",
    "\n",
    "fig = dict(data=data, layout=layout)\n",
    "py.iplot(fig, filename='marawi-emotions')"
   ]
  },
  {
   "cell_type": "code",
   "execution_count": 33,
   "metadata": {},
   "outputs": [
    {
     "ename": "AttributeError",
     "evalue": "Can only use .dt accessor with datetimelike values",
     "output_type": "error",
     "traceback": [
      "\u001b[1;31m---------------------------------------------------------------------------\u001b[0m",
      "\u001b[1;31mAttributeError\u001b[0m                            Traceback (most recent call last)",
      "\u001b[1;32m<ipython-input-33-cb185d3a23d9>\u001b[0m in \u001b[0;36m<module>\u001b[1;34m()\u001b[0m\n\u001b[0;32m      3\u001b[0m \u001b[0mx\u001b[0m \u001b[1;33m=\u001b[0m \u001b[1;33m[\u001b[0m\u001b[1;34m'May'\u001b[0m\u001b[1;33m,\u001b[0m \u001b[1;34m'June'\u001b[0m\u001b[1;33m,\u001b[0m \u001b[1;34m'July'\u001b[0m\u001b[1;33m,\u001b[0m \u001b[1;34m'August'\u001b[0m\u001b[1;33m,\u001b[0m \u001b[1;34m'September'\u001b[0m\u001b[1;33m,\u001b[0m \u001b[1;34m'October'\u001b[0m\u001b[1;33m]\u001b[0m\u001b[1;33m\u001b[0m\u001b[0m\n\u001b[0;32m      4\u001b[0m \u001b[1;33m\u001b[0m\u001b[0m\n\u001b[1;32m----> 5\u001b[1;33m \u001b[0manger_month_list\u001b[0m \u001b[1;33m=\u001b[0m \u001b[0manger_list\u001b[0m\u001b[1;33m.\u001b[0m\u001b[0mgroupby\u001b[0m\u001b[1;33m(\u001b[0m\u001b[0manger_list\u001b[0m\u001b[1;33m[\u001b[0m\u001b[1;34m'date'\u001b[0m\u001b[1;33m]\u001b[0m\u001b[1;33m.\u001b[0m\u001b[0mdt\u001b[0m\u001b[1;33m.\u001b[0m\u001b[0mstrftime\u001b[0m\u001b[1;33m(\u001b[0m\u001b[1;34m'%B'\u001b[0m\u001b[1;33m)\u001b[0m\u001b[1;33m)\u001b[0m\u001b[1;33m[\u001b[0m\u001b[1;34m'emotion'\u001b[0m\u001b[1;33m]\u001b[0m\u001b[1;33m.\u001b[0m\u001b[0mcount\u001b[0m\u001b[1;33m(\u001b[0m\u001b[1;33m)\u001b[0m\u001b[1;33m\u001b[0m\u001b[0m\n\u001b[0m\u001b[0;32m      6\u001b[0m \u001b[0msadness_month_list\u001b[0m \u001b[1;33m=\u001b[0m \u001b[0manger_list\u001b[0m\u001b[1;33m.\u001b[0m\u001b[0mgroupby\u001b[0m\u001b[1;33m(\u001b[0m\u001b[0msadness_list\u001b[0m\u001b[1;33m[\u001b[0m\u001b[1;34m'date'\u001b[0m\u001b[1;33m]\u001b[0m\u001b[1;33m.\u001b[0m\u001b[0mdt\u001b[0m\u001b[1;33m.\u001b[0m\u001b[0mstrftime\u001b[0m\u001b[1;33m(\u001b[0m\u001b[1;34m'%B'\u001b[0m\u001b[1;33m)\u001b[0m\u001b[1;33m)\u001b[0m\u001b[1;33m[\u001b[0m\u001b[1;34m'emotion'\u001b[0m\u001b[1;33m]\u001b[0m\u001b[1;33m.\u001b[0m\u001b[0mcount\u001b[0m\u001b[1;33m(\u001b[0m\u001b[1;33m)\u001b[0m\u001b[1;33m\u001b[0m\u001b[0m\n\u001b[0;32m      7\u001b[0m \u001b[0mjoy_month_list\u001b[0m \u001b[1;33m=\u001b[0m \u001b[0manger_list\u001b[0m\u001b[1;33m.\u001b[0m\u001b[0mgroupby\u001b[0m\u001b[1;33m(\u001b[0m\u001b[0mjoy_list\u001b[0m\u001b[1;33m[\u001b[0m\u001b[1;34m'date'\u001b[0m\u001b[1;33m]\u001b[0m\u001b[1;33m.\u001b[0m\u001b[0mdt\u001b[0m\u001b[1;33m.\u001b[0m\u001b[0mstrftime\u001b[0m\u001b[1;33m(\u001b[0m\u001b[1;34m'%B'\u001b[0m\u001b[1;33m)\u001b[0m\u001b[1;33m)\u001b[0m\u001b[1;33m[\u001b[0m\u001b[1;34m'emotion'\u001b[0m\u001b[1;33m]\u001b[0m\u001b[1;33m.\u001b[0m\u001b[0mcount\u001b[0m\u001b[1;33m(\u001b[0m\u001b[1;33m)\u001b[0m\u001b[1;33m\u001b[0m\u001b[0m\n",
      "\u001b[1;32mc:\\python27\\lib\\site-packages\\pandas\\core\\generic.pyc\u001b[0m in \u001b[0;36m__getattr__\u001b[1;34m(self, name)\u001b[0m\n\u001b[0;32m   3608\u001b[0m         if (name in self._internal_names_set or name in self._metadata or\n\u001b[0;32m   3609\u001b[0m                 name in self._accessors):\n\u001b[1;32m-> 3610\u001b[1;33m             \u001b[1;32mreturn\u001b[0m \u001b[0mobject\u001b[0m\u001b[1;33m.\u001b[0m\u001b[0m__getattribute__\u001b[0m\u001b[1;33m(\u001b[0m\u001b[0mself\u001b[0m\u001b[1;33m,\u001b[0m \u001b[0mname\u001b[0m\u001b[1;33m)\u001b[0m\u001b[1;33m\u001b[0m\u001b[0m\n\u001b[0m\u001b[0;32m   3611\u001b[0m         \u001b[1;32melse\u001b[0m\u001b[1;33m:\u001b[0m\u001b[1;33m\u001b[0m\u001b[0m\n\u001b[0;32m   3612\u001b[0m             \u001b[1;32mif\u001b[0m \u001b[0mname\u001b[0m \u001b[1;32min\u001b[0m \u001b[0mself\u001b[0m\u001b[1;33m.\u001b[0m\u001b[0m_info_axis\u001b[0m\u001b[1;33m:\u001b[0m\u001b[1;33m\u001b[0m\u001b[0m\n",
      "\u001b[1;32mc:\\python27\\lib\\site-packages\\pandas\\core\\accessor.pyc\u001b[0m in \u001b[0;36m__get__\u001b[1;34m(self, instance, owner)\u001b[0m\n\u001b[0;32m     52\u001b[0m             \u001b[1;31m# this ensures that Series.str.<method> is well defined\u001b[0m\u001b[1;33m\u001b[0m\u001b[1;33m\u001b[0m\u001b[0m\n\u001b[0;32m     53\u001b[0m             \u001b[1;32mreturn\u001b[0m \u001b[0mself\u001b[0m\u001b[1;33m.\u001b[0m\u001b[0maccessor_cls\u001b[0m\u001b[1;33m\u001b[0m\u001b[0m\n\u001b[1;32m---> 54\u001b[1;33m         \u001b[1;32mreturn\u001b[0m \u001b[0mself\u001b[0m\u001b[1;33m.\u001b[0m\u001b[0mconstruct_accessor\u001b[0m\u001b[1;33m(\u001b[0m\u001b[0minstance\u001b[0m\u001b[1;33m)\u001b[0m\u001b[1;33m\u001b[0m\u001b[0m\n\u001b[0m\u001b[0;32m     55\u001b[0m \u001b[1;33m\u001b[0m\u001b[0m\n\u001b[0;32m     56\u001b[0m     \u001b[1;32mdef\u001b[0m \u001b[0m__set__\u001b[0m\u001b[1;33m(\u001b[0m\u001b[0mself\u001b[0m\u001b[1;33m,\u001b[0m \u001b[0minstance\u001b[0m\u001b[1;33m,\u001b[0m \u001b[0mvalue\u001b[0m\u001b[1;33m)\u001b[0m\u001b[1;33m:\u001b[0m\u001b[1;33m\u001b[0m\u001b[0m\n",
      "\u001b[1;32mc:\\python27\\lib\\site-packages\\pandas\\core\\indexes\\accessors.pyc\u001b[0m in \u001b[0;36m_make_accessor\u001b[1;34m(cls, data)\u001b[0m\n\u001b[0;32m    256\u001b[0m             \u001b[1;32mreturn\u001b[0m \u001b[0mmaybe_to_datetimelike\u001b[0m\u001b[1;33m(\u001b[0m\u001b[0mdata\u001b[0m\u001b[1;33m)\u001b[0m\u001b[1;33m\u001b[0m\u001b[0m\n\u001b[0;32m    257\u001b[0m         \u001b[1;32mexcept\u001b[0m \u001b[0mException\u001b[0m\u001b[1;33m:\u001b[0m\u001b[1;33m\u001b[0m\u001b[0m\n\u001b[1;32m--> 258\u001b[1;33m             raise AttributeError(\"Can only use .dt accessor with \"\n\u001b[0m\u001b[0;32m    259\u001b[0m                                  \"datetimelike values\")\n",
      "\u001b[1;31mAttributeError\u001b[0m: Can only use .dt accessor with datetimelike values"
     ]
    }
   ],
   "source": [
    "### for the Grouped Bar Graph\n",
    "\n",
    "anger_month_list = anger_list.groupby(anger_list['date'].dt.strftime('%B'))['emotion'].count()\n",
    "sadness_month_list = anger_list.groupby(sadness_list['date'].dt.strftime('%B'))['emotion'].count()\n",
    "joy_month_list = anger_list.groupby(joy_list['date'].dt.strftime('%B'))['emotion'].count()\n",
    "fear_month_list = anger_list.groupby(fear_list['date'].dt.strftime('%B'))['emotion'].count()\n",
    "disgust_month_list = anger_list.groupby(disgust_list['date'].dt.strftime('%B'))['emotion'].count()"
   ]
  },
  {
   "cell_type": "code",
   "execution_count": 38,
   "metadata": {},
   "outputs": [
    {
     "data": {
      "text/html": [
       "<iframe id=\"igraph\" scrolling=\"no\" style=\"border:none;\" seamless=\"seamless\" src=\"https://plot.ly/~kimmorsha/14.embed\" height=\"525px\" width=\"100%\"></iframe>"
      ],
      "text/plain": [
       "<plotly.tools.PlotlyDisplay object>"
      ]
     },
     "execution_count": 38,
     "metadata": {},
     "output_type": "execute_result"
    }
   ],
   "source": [
    "# Create the stacked bar chart\n",
    "x = ['May', 'June', 'July', 'August', 'September', 'October']\n",
    "\n",
    "updatemenus = list([\n",
    "    dict(type=\"buttons\",\n",
    "         active=-1,\n",
    "         buttons=list([   \n",
    "            dict(label = 'Anger',\n",
    "                 method = 'update',\n",
    "                 args = [{'visible': [True, False, False, False, False]},\n",
    "                         {'title': 'Anger'}]),\n",
    "            dict(label = 'Sadness',\n",
    "                 method = 'update',\n",
    "                 args = [{'visible': [False, True, False, False, False]},\n",
    "                         {'title': 'Sadness'}]),\n",
    "            dict(label = 'Joy',\n",
    "                 method = 'update',\n",
    "                 args = [{'visible': [False, False, True, False, False]},\n",
    "                         {'title': 'Joy'}]),\n",
    "            dict(label = 'Fear',\n",
    "                 method = 'update',\n",
    "                 args = [{'visible': [False, False, False, True, False]},\n",
    "                         {'title': 'Fear'}]),\n",
    "            dict(label = 'Disgust',\n",
    "                 method = 'update',\n",
    "                 args = [{'visible': [False, False, False, False, True]},\n",
    "                         {'title': 'Disgust'}]),\n",
    "            dict(label = 'RESET',\n",
    "                 method = 'update',\n",
    "                 args = [{'visible': [True, True, True, True, True]},\n",
    "                         {'title': 'Emotions of Marawi-Related Tweets from Philippine-based Twitter Users'}]),\n",
    "        ]),\n",
    "    )\n",
    "])\n",
    "\n",
    "# Trace for each emotion\n",
    "trace_anger = go.Bar(x=x, y=anger_days_list, name='Anger', marker= dict(color = 'rgb(255,0,0)', line = dict(width=0.5, color = 'rgb(255,0,0)')), opacity=0.7)\n",
    "trace_sadness = go.Bar(x=x, y=sadness_days_list, name='Sadness', marker= dict(color = 'rgb(0,0,255)', line = dict(width=5,  color = 'rgb(0,0,255)')), opacity=0.7)\n",
    "trace_joy = go.Bar(x=x, y=joy_days_list, name='Joy', marker= dict(color = 'rgb(255,255,0)', line = dict(width=5, color = 'rgb(255,255,0)')), opacity=0.7)\n",
    "trace_fear = go.Bar(x=x, y=fear_days_list, name='Fear', marker= dict(color = 'rgb(76,0,153)', line = dict(width=5, color = 'rgb(76,0,153)')), opacity=0.7)\n",
    "trace_disgust = go.Bar(x=x, y=disgust_days_list, name='Disgust', marker= dict(color = 'rgb(0,255,0)', line = dict(width=5, color = 'rgb(0,255,0)')), opacity=0.7)\n",
    "data = [trace_anger, trace_sadness, trace_joy, trace_fear, trace_disgust]\n",
    "                                                                \n",
    "layout = dict(title='Marawi Emotions', xaxis= dict(title='Month', type='str'), yaxis= dict(title='Frequency'), barmode='grouped', updatemenus = updatemenus)\n",
    "fig = dict(data=data, layout=layout)\n",
    "py.iplot(fig, filename='bar-graph')"
   ]
  },
  {
   "cell_type": "code",
   "execution_count": null,
   "metadata": {},
   "outputs": [],
   "source": []
  },
  {
   "cell_type": "code",
   "execution_count": null,
   "metadata": {},
   "outputs": [],
   "source": []
  }
 ],
 "metadata": {
  "kernelspec": {
   "display_name": "Python 2",
   "language": "python",
   "name": "python2"
  },
  "language_info": {
   "codemirror_mode": {
    "name": "ipython",
    "version": 2
   },
   "file_extension": ".py",
   "mimetype": "text/x-python",
   "name": "python",
   "nbconvert_exporter": "python",
   "pygments_lexer": "ipython2",
   "version": "2.7.14"
  }
 },
 "nbformat": 4,
 "nbformat_minor": 2
}
