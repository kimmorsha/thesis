{
 "cells": [
  {
   "cell_type": "markdown",
   "metadata": {},
   "source": [
    "# Exploring Emotions from Marawi-related Tweets from Philippines-based Twitter Users"
   ]
  },
  {
   "cell_type": "code",
   "execution_count": 1,
   "metadata": {},
   "outputs": [],
   "source": [
    "from datetime import datetime\n",
    "import dateutil\n",
    "import numpy as np\n",
    "import pandas as pd\n",
    "\n",
    "import cufflinks as cf\n",
    "\n",
    "import plotly.plotly as py\n",
    "import plotly.tools as tls\n",
    "import plotly.graph_objs as go\n",
    "import collections\n",
    "\n",
    "tls.set_credentials_file(username='kimmorsha' , api_key='gOupG4bDv8MLp1AuHM1S')\n",
    "\n",
    "filename = \"../dataset/marawi_tweets_final.csv\"\n",
    "df = pd.read_csv(filename)\n",
    "\n",
    "# Convert date column to datetime type\n",
    "df[\"date\"] = pd.to_datetime(df['date'], format='%m/%d/%Y')\n",
    "days = df['date'].dt.strftime('%Y-%m-%d').astype(str).unique()\n",
    "\n",
    "# Get lists by emotions\n",
    "anger_list = df[df['emotion'] == 'anger']  \n",
    "joy_list = df[df['emotion'] == 'joy']  \n",
    "sadness_list = df[df['emotion'] == 'sadness']  \n",
    "fear_list = df[df['emotion'] == 'fear']  \n",
    "disgust_list = df[df['emotion'] == 'disgust'] "
   ]
  },
  {
   "cell_type": "markdown",
   "metadata": {},
   "source": [
    "### Bar chart of the number of Marawi-related tweets tagged with emotions"
   ]
  },
  {
   "cell_type": "code",
   "execution_count": 8,
   "metadata": {
    "scrolled": true
   },
   "outputs": [
    {
     "data": {
      "text/html": [
       "<iframe id=\"igraph\" scrolling=\"no\" style=\"border:none;\" seamless=\"seamless\" src=\"https://plot.ly/~kimmorsha/14.embed\" height=\"525px\" width=\"100%\"></iframe>"
      ],
      "text/plain": [
       "<plotly.tools.PlotlyDisplay object>"
      ]
     },
     "execution_count": 8,
     "metadata": {},
     "output_type": "execute_result"
    }
   ],
   "source": [
    "### BAR GRAPH\n",
    "\n",
    "# Get the total number of tweets for each emotion\n",
    "anger_total = anger_list.shape[0]\n",
    "sadness_total = sadness_list.shape[0]\n",
    "joy_total = joy_list.shape[0]\n",
    "fear_total = fear_list.shape[0]\n",
    "disgust_total = disgust_list.shape[0]\n",
    "\n",
    "# Trace for each emotion\n",
    "trace_anger = go.Bar(x='Anger', y=anger_total, name='Anger', marker= dict(color = 'rgb(255,0,0)', line = dict(width=0.5, color = 'rgb(255,0,0)')), opacity=0.8)\n",
    "trace_sadness = go.Bar(x='Sadness', y=sadness_total, name='Sadness', marker= dict(color = 'rgb(0,0,255)', line = dict(width=5,  color = 'rgb(0,0,255)')), opacity=0.8)\n",
    "trace_joy = go.Bar(x='Joy', y=joy_total, name='Joy', marker= dict(color = 'rgb(255,255,0)', line = dict(width=5, color = 'rgb(255,255,0)')), opacity=0.8)\n",
    "trace_fear = go.Bar(x='Fear', y=fear_total, name='Fear', marker= dict(color = 'rgb(76,0,153)', line = dict(width=5, color = 'rgb(76,0,153)')), opacity=0.8)\n",
    "trace_disgust = go.Bar(x='Disgust', y=disgust_total, name='Disgust', marker= dict(color = 'rgb(0,255,0)', line = dict(width=5, color = 'rgb(0,255,0)')), opacity=0.8)\n",
    "\n",
    "data = [trace_anger, trace_sadness, trace_joy, trace_fear, trace_disgust]\n",
    "                                                                \n",
    "layout = dict(title='Frequency of Emotions of Marawi-Related Tweets from Philippine-based Twitter Users', xaxis= dict(title='Emotions', type='str'), yaxis= dict(title='Frequency'))\n",
    "fig = dict(data=data, layout=layout)\n",
    "py.iplot(fig, filename='bar-graph')\n"
   ]
  },
  {
   "cell_type": "code",
   "execution_count": 7,
   "metadata": {},
   "outputs": [
    {
     "data": {
      "text/html": [
       "<iframe id=\"igraph\" scrolling=\"no\" style=\"border:none;\" seamless=\"seamless\" src=\"https://plot.ly/~kimmorsha/39.embed\" height=\"525px\" width=\"100%\"></iframe>"
      ],
      "text/plain": [
       "<plotly.tools.PlotlyDisplay object>"
      ]
     },
     "execution_count": 7,
     "metadata": {},
     "output_type": "execute_result"
    }
   ],
   "source": [
    "labels = ['Anger','Sadness','Joy','Fear', 'Disgust']\n",
    "values = [anger_total,sadness_total,joy_total,fear_total,disgust_total]\n",
    "colors = ['#FF0000', '#0000FF', '#FFFF00', '#4C0099', '#00FF00']\n",
    "\n",
    "trace = go.Pie(labels=labels, values=values,\n",
    "               textfont=dict(size=20),\n",
    "               marker=dict(colors=colors,\n",
    "                           line=dict(color='#000000', width=1)))\n",
    "\n",
    "py.iplot([trace], filename='marawi-pie-chart')"
   ]
  },
  {
   "cell_type": "markdown",
   "metadata": {},
   "source": [
    "### Time Series of Marawi-related Tweets per Emotions"
   ]
  },
  {
   "cell_type": "code",
   "execution_count": 6,
   "metadata": {},
   "outputs": [
    {
     "data": {
      "text/html": [
       "<iframe id=\"igraph\" scrolling=\"no\" style=\"border:none;\" seamless=\"seamless\" src=\"https://plot.ly/~kimmorsha/16.embed\" height=\"525px\" width=\"100%\"></iframe>"
      ],
      "text/plain": [
       "<plotly.tools.PlotlyDisplay object>"
      ]
     },
     "execution_count": 6,
     "metadata": {},
     "output_type": "execute_result"
    }
   ],
   "source": [
    "### SCATTER PLOT/ TIME SERIES\n",
    "\n",
    "# Get x-axis for scatterplot which is the date \n",
    "x = days\n",
    "\n",
    "# Group by day and count number of emotion per day\n",
    "anger_days_list = anger_list['date'].value_counts()\n",
    "sadness_days_list = sadness_list['date'].value_counts()\n",
    "joy_days_list = joy_list['date'].value_counts()\n",
    "fear_days_list = fear_list['date'].value_counts()\n",
    "disgust_days_list = disgust_list['date'].value_counts()\n",
    "\n",
    "od = collections.OrderedDict(sorted(anger_days_list.to_dict().items())) \n",
    "anger_days_list = map(int, od.values())\n",
    "\n",
    "od = collections.OrderedDict(sorted(sadness_days_list.to_dict().items())) \n",
    "sadness_days_list = map(int, od.values())\n",
    "\n",
    "od = collections.OrderedDict(sorted(joy_days_list.to_dict().items())) \n",
    "joy_days_list = map(int, od.values())\n",
    "\n",
    "od = collections.OrderedDict(sorted(fear_days_list.to_dict().items())) \n",
    "fear_days_list = map(int, od.values())\n",
    "\n",
    "od = collections.OrderedDict(sorted(disgust_days_list.to_dict().items())) \n",
    "disgust_days_list = map(int, od.values())\n",
    "\n",
    "# Trace for each emotion\n",
    "trace_anger = go.Scatter(x=x, y=anger_days_list, name='Anger', line = dict(width=5, color = 'rgb(255,0,0)'), opacity = 0.8)\n",
    "trace_sadness = go.Scatter(x=x, y=sadness_days_list, name='Sadness', line = dict(width=5,  color = 'rgb(0,0,255)'), opacity = 0.8)\n",
    "trace_joy = go.Scatter(x=x, y=joy_days_list, name='Joy', line = dict(width=5, color = 'rgb(255,255,0)'), opacity = 0.8)\n",
    "trace_fear = go.Scatter(x=x, y=fear_days_list, name='Fear', line = dict(width=5, color = 'rgb(76,0,153)'), opacity = 0.8)\n",
    "trace_disgust = go.Scatter(x=x, y=disgust_days_list, name='Disgust', line = dict(width=5, color = 'rgb(0,255,0)'), opacity = 0.8)\n",
    "\n",
    "# Create the plot\n",
    "data = [trace_anger, trace_sadness, trace_joy, trace_fear, trace_disgust]\n",
    "\n",
    "# Menu buttons per emotion for filter\n",
    "updatemenus = list([\n",
    "    dict(type=\"buttons\",\n",
    "         active=-1,\n",
    "         buttons=list([   \n",
    "            dict(label = 'Anger',\n",
    "                 method = 'update',\n",
    "                 args = [{'visible': [True, False, False, False, False]},\n",
    "                         {'title': 'Anger'}]),\n",
    "            dict(label = 'Sadness',\n",
    "                 method = 'update',\n",
    "                 args = [{'visible': [False, True, False, False, False]},\n",
    "                         {'title': 'Sadness'}]),\n",
    "            dict(label = 'Joy',\n",
    "                 method = 'update',\n",
    "                 args = [{'visible': [False, False, True, False, False]},\n",
    "                         {'title': 'Joy'}]),\n",
    "            dict(label = 'Fear',\n",
    "                 method = 'update',\n",
    "                 args = [{'visible': [False, False, False, True, False]},\n",
    "                         {'title': 'Fear'}]),\n",
    "            dict(label = 'Disgust',\n",
    "                 method = 'update',\n",
    "                 args = [{'visible': [False, False, False, False, True]},\n",
    "                         {'title': 'Disgust'}]),\n",
    "            dict(label = 'RESET',\n",
    "                 method = 'update',\n",
    "                 args = [{'visible': [True, True, True, True, True]},\n",
    "                         {'title': 'Emotions of Marawi-Related Tweets from Philippine-based Twitter Users'}]),\n",
    "        ]),\n",
    "    )\n",
    "])\n",
    "                                                                \n",
    "layout = dict(\n",
    "                title='Emotions of Marawi-Related Tweets from Philippine-based Twitter Users',\n",
    "                xaxis= dict(\n",
    "                            title='Date',\n",
    "                            rangeselector=dict(\n",
    "                                                    buttons=list([\n",
    "                                                        dict(\n",
    "                                                            label='scope',\n",
    "                                                            step='all'),\n",
    "                                                        dict(count=1,\n",
    "                                                             label='by month',\n",
    "                                                             step='month',\n",
    "                                                             stepmode='forward')\n",
    "                                                    ])),\n",
    "                         \n",
    "                            rangeslider=dict(),\n",
    "                            type='date'),\n",
    "                yaxis= dict(title='Frequency'),\n",
    "                showlegend=True,\n",
    "                updatemenus=updatemenus\n",
    ")\n",
    "\n",
    "fig = dict(data=data, layout=layout)\n",
    "py.iplot(fig, filename='marawi-emotions-time-series')"
   ]
  },
  {
   "cell_type": "markdown",
   "metadata": {},
   "source": [
    "### Bar graph to show emotions of tweets by month"
   ]
  },
  {
   "cell_type": "code",
   "execution_count": 5,
   "metadata": {},
   "outputs": [
    {
     "data": {
      "text/html": [
       "<iframe id=\"igraph\" scrolling=\"no\" style=\"border:none;\" seamless=\"seamless\" src=\"https://plot.ly/~kimmorsha/18.embed\" height=\"525px\" width=\"100%\"></iframe>"
      ],
      "text/plain": [
       "<plotly.tools.PlotlyDisplay object>"
      ]
     },
     "execution_count": 5,
     "metadata": {},
     "output_type": "execute_result"
    }
   ],
   "source": [
    "### GROUPED BAR GRAPH\n",
    "\n",
    "# Group each emotion by month and get their count\n",
    "anger_month_list = anger_list.groupby(anger_list['date'].dt.strftime('%B'))['emotion'].count()\n",
    "sadness_month_list = sadness_list.groupby(sadness_list['date'].dt.strftime('%B'))['emotion'].count()\n",
    "joy_month_list = joy_list.groupby(joy_list['date'].dt.strftime('%B'))['emotion'].count()\n",
    "fear_month_list = fear_list.groupby(fear_list['date'].dt.strftime('%B'))['emotion'].count()\n",
    "disgust_month_list = disgust_list.groupby(disgust_list['date'].dt.strftime('%B'))['emotion'].count()\n",
    "\n",
    "# arrange the month chronologically\n",
    "anger_month_list = anger_month_list.reindex(index = ['May', 'June', 'July', 'August', 'September', 'October'])\n",
    "sadness_month_list = sadness_month_list.reindex(index = ['May', 'June', 'July', 'August', 'September', 'October'])\n",
    "joy_month_list = joy_month_list.reindex(index = ['May', 'June', 'July', 'August', 'September', 'October'])\n",
    "fear_month_list = fear_month_list.reindex(index = ['May', 'June', 'July', 'August', 'September', 'October'])\n",
    "disgust_month_list = disgust_month_list.reindex(index = ['May', 'June', 'July', 'August', 'September', 'October'])\n",
    "\n",
    "# Create the stacked bar chart\n",
    "x = ['May 2017', 'June 2017', 'July 2017', 'August 2017', 'September 2017', 'October 2017']\n",
    "\n",
    "# Trace for each emotion\n",
    "trace_anger = go.Bar(x=x, y=anger_month_list, name='Anger', marker= dict(color = 'rgb(255,0,0)', line = dict(width=0.5, color = 'rgb(255,0,0)')), opacity=0.8)\n",
    "trace_sadness = go.Bar(x=x, y=sadness_month_list, name='Sadness', marker= dict(color = 'rgb(0,0,255)', line = dict(width=5,  color = 'rgb(0,0,255)')), opacity=0.8)\n",
    "trace_joy = go.Bar(x=x, y=joy_month_list, name='Joy', marker= dict(color = 'rgb(255,255,0)', line = dict(width=5, color = 'rgb(255,255,0)')), opacity=0.8)\n",
    "trace_fear = go.Bar(x=x, y=fear_month_list, name='Fear', marker= dict(color = 'rgb(76,0,153)', line = dict(width=5, color = 'rgb(76,0,153)')), opacity=0.8)\n",
    "trace_disgust = go.Bar(x=x, y=disgust_month_list, name='Disgust', marker= dict(color = 'rgb(0,255,0)', line = dict(width=5, color = 'rgb(0,255,0)')), opacity=0.8)\n",
    "\n",
    "data = [trace_anger, trace_sadness, trace_joy, trace_fear, trace_disgust]\n",
    "                                                                \n",
    "layout = dict(title='Emotions of Marawi-Related Tweets from Philippine-based Twitter Users (by Month)', xaxis= dict(title='Month', type='str'), yaxis= dict(title='Frequency'), barmode='grouped', updatemenus = updatemenus)\n",
    "fig = dict(data=data, layout=layout)\n",
    "py.iplot(fig, filename='marawi-grouped-bar-graph')"
   ]
  }
 ],
 "metadata": {
  "kernelspec": {
   "display_name": "Python 2",
   "language": "python",
   "name": "python2"
  },
  "language_info": {
   "codemirror_mode": {
    "name": "ipython",
    "version": 2
   },
   "file_extension": ".py",
   "mimetype": "text/x-python",
   "name": "python",
   "nbconvert_exporter": "python",
   "pygments_lexer": "ipython2",
   "version": "2.7.14"
  }
 },
 "nbformat": 4,
 "nbformat_minor": 2
}
