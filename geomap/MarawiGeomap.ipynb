{
 "cells": [
  {
   "cell_type": "code",
   "execution_count": 21,
   "metadata": {},
   "outputs": [],
   "source": [
    "from datetime import datetime\n",
    "import numpy as np\n",
    "import pandas as pd\n",
    "\n",
    "import plotly.plotly as py\n",
    "from plotly.graph_objs import *\n",
    "from plotly.grid_objs import Grid, Column\n",
    "\n",
    "mapbox_access_token = 'pk.eyJ1Ijoia2ltbW9yc2hhIiwiYSI6ImNqZzZqZ3R2NDIyM2gzM3hmcGN5ZzRkamIifQ.oVqfqIPiaeoa8fNSoHv-vA'"
   ]
  },
  {
   "cell_type": "code",
   "execution_count": 22,
   "metadata": {},
   "outputs": [
    {
     "name": "stdout",
     "output_type": "stream",
     "text": [
      "Int64Index([0, 1, 2, 3, 4, 5, 6, 7, 8, 9, 10], dtype='int64')\n"
     ]
    }
   ],
   "source": [
    "filename = \"../dataset/01_may/marawi_tweets_05_24.csv\"\n",
    "chart_filename = \"Marawi-related Tweets \" + str(datetime.now())\n",
    "\n",
    "df = pd.read_csv(filename, parse_dates=True,header=None)\n",
    "df\n",
    "print(df.columns)"
   ]
  },
  {
   "cell_type": "code",
   "execution_count": 23,
   "metadata": {},
   "outputs": [],
   "source": [
    "years = df[1].unique()\n",
    "years = list(sorted(years.astype(str)))"
   ]
  },
  {
   "cell_type": "code",
   "execution_count": null,
   "metadata": {},
   "outputs": [],
   "source": []
  }
 ],
 "metadata": {
  "kernelspec": {
   "display_name": "Python 2",
   "language": "python",
   "name": "python2"
  },
  "language_info": {
   "codemirror_mode": {
    "name": "ipython",
    "version": 2
   },
   "file_extension": ".py",
   "mimetype": "text/x-python",
   "name": "python",
   "nbconvert_exporter": "python",
   "pygments_lexer": "ipython2",
   "version": "2.7.14"
  }
 },
 "nbformat": 4,
 "nbformat_minor": 2
}
